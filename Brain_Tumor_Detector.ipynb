{
  "cells": [
    {
      "cell_type": "markdown",
      "metadata": {
        "id": "view-in-github",
        "colab_type": "text"
      },
      "source": [
        "<a href=\"https://colab.research.google.com/github/khoalk/BrainTumorDetection-main/blob/main/Brain_Tumor_Detector.ipynb\" target=\"_parent\"><img src=\"https://colab.research.google.com/assets/colab-badge.svg\" alt=\"Open In Colab\"/></a>"
      ]
    },
    {
      "cell_type": "markdown",
      "metadata": {
        "id": "vq-d1UQr5Ijc"
      },
      "source": [
        "# Intro\n",
        "\n",
        "In this notebook we're going to build a computer vision model to detect brain tumors. In order to perform that, we'll be using [PyTorch](https://pytorch.org) and in particular we'll start from the [YOLOv5](https://github.com/ultralytics/yolov5) architecture to perform fine-tuning for this task. For building our models  we will use the medium version **YOLOv5m**.\n",
        "\n",
        "Furthermore, we'll use this dataset from Kaggle called \"[Brain Tumor Object Detection Dataset](https://www.kaggle.com/datasets/davidbroberts/brain-tumor-object-detection-datasets)\" which already includes the labels and the bounding boxes that will be used to train the model.\n",
        "It counts 1.274 images of MRI scans of the brain taken on 3 different axes:\n",
        "\n",
        "| Axial       | Coronal     | Sagittal    |\n",
        "| ----------- | ----------- | ----------- |\n",
        "| ![00022_75.jpg](data:image/jpeg;base64,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)      |![59 (8).jpg](data:image/jpeg;base64,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)        |      ![00002_166.jpg](data:image/jpeg;base64,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)       |\n",
        "\n",
        "\n",
        "Note that this dataset has been already imported in this repository."
      ]
    },
    {
      "cell_type": "code",
      "source": [
        "from google.colab import drive\n",
        "drive.mount('/content/drive')"
      ],
      "metadata": {
        "colab": {
          "base_uri": "https://localhost:8080/"
        },
        "id": "1hQVEM010BL2",
        "outputId": "1ecd0dde-d959-4c12-9257-7032cb2a31b0"
      },
      "execution_count": 15,
      "outputs": [
        {
          "output_type": "stream",
          "name": "stdout",
          "text": [
            "Drive already mounted at /content/drive; to attempt to forcibly remount, call drive.mount(\"/content/drive\", force_remount=True).\n"
          ]
        }
      ]
    },
    {
      "cell_type": "markdown",
      "metadata": {
        "id": "MIZcX-gQeRxJ"
      },
      "source": [
        "# Workspace Configuration"
      ]
    },
    {
      "cell_type": "code",
      "execution_count": 16,
      "metadata": {
        "id": "rk2BM6XYAt27"
      },
      "outputs": [],
      "source": [
        "# Global imports\n",
        "import shutil\n",
        "import zipfile\n",
        "import os\n",
        "import torch\n",
        "import urllib.request\n",
        "from IPython.display import Image, display"
      ]
    },
    {
      "cell_type": "code",
      "execution_count": 17,
      "metadata": {
        "id": "3AiFL_AofDL5"
      },
      "outputs": [],
      "source": [
        "# This block make sense only if runned on Google Collaboratory\n",
        "if os.path.exists('sample_data'):\n",
        "  shutil.rmtree('sample_data')"
      ]
    },
    {
      "cell_type": "code",
      "execution_count": 19,
      "metadata": {
        "colab": {
          "base_uri": "https://localhost:8080/",
          "height": 380
        },
        "id": "kmmrNwrAzT6Q",
        "outputId": "a479e556-0df7-4c8c-9f8f-3d5bea199176"
      },
      "outputs": [
        {
          "output_type": "error",
          "ename": "FileNotFoundError",
          "evalue": "ignored",
          "traceback": [
            "\u001b[0;31m---------------------------------------------------------------------------\u001b[0m",
            "\u001b[0;31mFileNotFoundError\u001b[0m                         Traceback (most recent call last)",
            "\u001b[0;32m<ipython-input-19-21d7fd305117>\u001b[0m in \u001b[0;36m<module>\u001b[0;34m\u001b[0m\n\u001b[1;32m      1\u001b[0m \u001b[0;31m# Clone YOLOv5 Repository\u001b[0m\u001b[0;34m\u001b[0m\u001b[0;34m\u001b[0m\u001b[0;34m\u001b[0m\u001b[0m\n\u001b[1;32m      2\u001b[0m \u001b[0;32mif\u001b[0m \u001b[0mos\u001b[0m\u001b[0;34m.\u001b[0m\u001b[0mpath\u001b[0m\u001b[0;34m.\u001b[0m\u001b[0mexists\u001b[0m\u001b[0;34m(\u001b[0m\u001b[0;34m'yolov5'\u001b[0m\u001b[0;34m)\u001b[0m\u001b[0;34m:\u001b[0m\u001b[0;34m\u001b[0m\u001b[0;34m\u001b[0m\u001b[0m\n\u001b[0;32m----> 3\u001b[0;31m   \u001b[0mshutil\u001b[0m\u001b[0;34m.\u001b[0m\u001b[0mrmtree\u001b[0m\u001b[0;34m(\u001b[0m\u001b[0;34m'yolov5/runs'\u001b[0m\u001b[0;34m)\u001b[0m\u001b[0;34m\u001b[0m\u001b[0;34m\u001b[0m\u001b[0m\n\u001b[0m\u001b[1;32m      4\u001b[0m \u001b[0;32melse\u001b[0m\u001b[0;34m:\u001b[0m\u001b[0;34m\u001b[0m\u001b[0;34m\u001b[0m\u001b[0m\n\u001b[1;32m      5\u001b[0m   \u001b[0mget_ipython\u001b[0m\u001b[0;34m(\u001b[0m\u001b[0;34m)\u001b[0m\u001b[0;34m.\u001b[0m\u001b[0msystem\u001b[0m\u001b[0;34m(\u001b[0m\u001b[0;34m'git clone https://github.com/ultralytics/yolov5 '\u001b[0m\u001b[0;34m)\u001b[0m\u001b[0;34m\u001b[0m\u001b[0;34m\u001b[0m\u001b[0m\n",
            "\u001b[0;32m/usr/lib/python3.7/shutil.py\u001b[0m in \u001b[0;36mrmtree\u001b[0;34m(path, ignore_errors, onerror)\u001b[0m\n\u001b[1;32m    483\u001b[0m             \u001b[0morig_st\u001b[0m \u001b[0;34m=\u001b[0m \u001b[0mos\u001b[0m\u001b[0;34m.\u001b[0m\u001b[0mlstat\u001b[0m\u001b[0;34m(\u001b[0m\u001b[0mpath\u001b[0m\u001b[0;34m)\u001b[0m\u001b[0;34m\u001b[0m\u001b[0;34m\u001b[0m\u001b[0m\n\u001b[1;32m    484\u001b[0m         \u001b[0;32mexcept\u001b[0m \u001b[0mException\u001b[0m\u001b[0;34m:\u001b[0m\u001b[0;34m\u001b[0m\u001b[0;34m\u001b[0m\u001b[0m\n\u001b[0;32m--> 485\u001b[0;31m             \u001b[0monerror\u001b[0m\u001b[0;34m(\u001b[0m\u001b[0mos\u001b[0m\u001b[0;34m.\u001b[0m\u001b[0mlstat\u001b[0m\u001b[0;34m,\u001b[0m \u001b[0mpath\u001b[0m\u001b[0;34m,\u001b[0m \u001b[0msys\u001b[0m\u001b[0;34m.\u001b[0m\u001b[0mexc_info\u001b[0m\u001b[0;34m(\u001b[0m\u001b[0;34m)\u001b[0m\u001b[0;34m)\u001b[0m\u001b[0;34m\u001b[0m\u001b[0;34m\u001b[0m\u001b[0m\n\u001b[0m\u001b[1;32m    486\u001b[0m             \u001b[0;32mreturn\u001b[0m\u001b[0;34m\u001b[0m\u001b[0;34m\u001b[0m\u001b[0m\n\u001b[1;32m    487\u001b[0m         \u001b[0;32mtry\u001b[0m\u001b[0;34m:\u001b[0m\u001b[0;34m\u001b[0m\u001b[0;34m\u001b[0m\u001b[0m\n",
            "\u001b[0;32m/usr/lib/python3.7/shutil.py\u001b[0m in \u001b[0;36mrmtree\u001b[0;34m(path, ignore_errors, onerror)\u001b[0m\n\u001b[1;32m    481\u001b[0m         \u001b[0;31m# lstat()/open()/fstat() trick.\u001b[0m\u001b[0;34m\u001b[0m\u001b[0;34m\u001b[0m\u001b[0;34m\u001b[0m\u001b[0m\n\u001b[1;32m    482\u001b[0m         \u001b[0;32mtry\u001b[0m\u001b[0;34m:\u001b[0m\u001b[0;34m\u001b[0m\u001b[0;34m\u001b[0m\u001b[0m\n\u001b[0;32m--> 483\u001b[0;31m             \u001b[0morig_st\u001b[0m \u001b[0;34m=\u001b[0m \u001b[0mos\u001b[0m\u001b[0;34m.\u001b[0m\u001b[0mlstat\u001b[0m\u001b[0;34m(\u001b[0m\u001b[0mpath\u001b[0m\u001b[0;34m)\u001b[0m\u001b[0;34m\u001b[0m\u001b[0;34m\u001b[0m\u001b[0m\n\u001b[0m\u001b[1;32m    484\u001b[0m         \u001b[0;32mexcept\u001b[0m \u001b[0mException\u001b[0m\u001b[0;34m:\u001b[0m\u001b[0;34m\u001b[0m\u001b[0;34m\u001b[0m\u001b[0m\n\u001b[1;32m    485\u001b[0m             \u001b[0monerror\u001b[0m\u001b[0;34m(\u001b[0m\u001b[0mos\u001b[0m\u001b[0;34m.\u001b[0m\u001b[0mlstat\u001b[0m\u001b[0;34m,\u001b[0m \u001b[0mpath\u001b[0m\u001b[0;34m,\u001b[0m \u001b[0msys\u001b[0m\u001b[0;34m.\u001b[0m\u001b[0mexc_info\u001b[0m\u001b[0;34m(\u001b[0m\u001b[0;34m)\u001b[0m\u001b[0;34m)\u001b[0m\u001b[0;34m\u001b[0m\u001b[0;34m\u001b[0m\u001b[0m\n",
            "\u001b[0;31mFileNotFoundError\u001b[0m: [Errno 2] No such file or directory: 'yolov5/runs'"
          ]
        }
      ],
      "source": [
        "# Clone YOLOv5 Repository\n",
        "if os.path.exists('yolov5'):\n",
        "  shutil.rmtree('yolov5/runs')\n",
        "else:\n",
        "  !git clone https://github.com/ultralytics/yolov5 \n",
        "  %cd yolov5\n",
        "  %pip install -r requirements.txt\n",
        "  %cd .."
      ]
    },
    {
      "cell_type": "code",
      "execution_count": null,
      "metadata": {
        "id": "7uXn3bwF0jCh"
      },
      "outputs": [],
      "source": [
        "# Download and unzip the dataset\n",
        "\n",
        "if not os.path.isfile('data.zip'):\n",
        "  urllib.request.urlretrieve(\"https://github.com/giuseppebrb/BrainTumorDetection/blob/main/data.zip?raw=true\", \"data.zip\")\n",
        "\n",
        "with zipfile.ZipFile(\"data.zip\",\"r\") as zip_ref:\n",
        "    zip_ref.extractall(\".\")\n",
        "\n",
        "os.remove('data.zip')"
      ]
    },
    {
      "cell_type": "code",
      "execution_count": null,
      "metadata": {
        "id": "v9H6gkiKH1l1"
      },
      "outputs": [],
      "source": [
        "# Folder for fine-tuned models\n",
        "output_folder = 'output_models'\n",
        "if os.path.exists(output_folder):\n",
        "  shutil.rmtree(output_folder)\n",
        "else :\n",
        "  os.makedirs(output_folder)"
      ]
    },
    {
      "cell_type": "code",
      "execution_count": null,
      "metadata": {
        "id": "ISCMzo_617vr"
      },
      "outputs": [],
      "source": [
        "#  Check if cuda available / mps available / only CPU\n",
        "if torch.cuda.is_available():\n",
        "  device = 0\n",
        "else:\n",
        "  device = 'cpu'"
      ]
    },
    {
      "cell_type": "markdown",
      "metadata": {
        "id": "XPlOh2039SQ_"
      },
      "source": [
        "# Training"
      ]
    },
    {
      "cell_type": "markdown",
      "metadata": {
        "id": "yb6japW6twaL"
      },
      "source": [
        "## Axial Plane Model"
      ]
    },
    {
      "cell_type": "code",
      "execution_count": null,
      "metadata": {
        "id": "uL89Zirrz8DX"
      },
      "outputs": [],
      "source": [
        "# Training axial plane\n",
        "!python yolov5/train.py --img 480 --batch 64 --epochs 400 --data ./data/axial/axial.yaml --weights yolov5m.pt --device {device} --name axial --hyp ./data/augmentation.yaml\n",
        "\n",
        "# Copy the fine-tuned model inside the output folder\n",
        "shutil.copyfile('yolov5/runs/train/axial/weights/best.pt', f'{output_folder}/tumor_detector_axial.pt')"
      ]
    },
    {
      "cell_type": "markdown",
      "metadata": {
        "id": "PmI6Eg7qtla-"
      },
      "source": [
        "### F1 Curve"
      ]
    },
    {
      "cell_type": "code",
      "execution_count": null,
      "metadata": {
        "id": "2YJbLHXNrUj_"
      },
      "outputs": [],
      "source": [
        "display(Image(filename='yolov5/runs/train/axial/F1_curve.png'))"
      ]
    },
    {
      "cell_type": "markdown",
      "metadata": {
        "id": "wvRKuJ9Bt-Q9"
      },
      "source": [
        "### PR Curve"
      ]
    },
    {
      "cell_type": "code",
      "execution_count": null,
      "metadata": {
        "id": "7H6pDaIDuEvp"
      },
      "outputs": [],
      "source": [
        "display(Image(filename='yolov5/runs/train/axial/PR_curve.png'))"
      ]
    },
    {
      "cell_type": "markdown",
      "metadata": {
        "id": "sq6vL6-vuJmM"
      },
      "source": [
        "### Confusion Matrix"
      ]
    },
    {
      "cell_type": "code",
      "execution_count": null,
      "metadata": {
        "id": "xBb3SH_TuMcn"
      },
      "outputs": [],
      "source": [
        "display(Image(filename='yolov5/runs/train/axial/confusion_matrix.png'))"
      ]
    },
    {
      "cell_type": "markdown",
      "metadata": {
        "id": "SdJP47pNuQrd"
      },
      "source": [
        "### Results summary"
      ]
    },
    {
      "cell_type": "code",
      "execution_count": null,
      "metadata": {
        "id": "zgDbdKp5uWd6"
      },
      "outputs": [],
      "source": [
        "display(Image(filename='yolov5/runs/train/axial/results.png'))"
      ]
    },
    {
      "cell_type": "markdown",
      "metadata": {
        "id": "lBziM2fTt22W"
      },
      "source": [
        "## Coronal Plane Model"
      ]
    },
    {
      "cell_type": "code",
      "execution_count": null,
      "metadata": {
        "id": "Jn9ishcHC0pE"
      },
      "outputs": [],
      "source": [
        "# Training coronal plane\n",
        "!python yolov5/train.py --img 480 --batch 80 --epochs 200 --data data/coronal/coronal.yaml --weights yolov5m.pt --device 0 --name coronal --hyp ./data/augmentation.yaml\n",
        "\n",
        "# Copy the fine-tuned model inside the output folder\n",
        "shutil.copyfile('yolov5/runs/train/coronal/weights/best.pt', f'{output_folder}/tumor_detector_coronal.pt')"
      ]
    },
    {
      "cell_type": "markdown",
      "metadata": {
        "id": "hPkRpUvavPlJ"
      },
      "source": [
        "### F1 Curve"
      ]
    },
    {
      "cell_type": "code",
      "execution_count": null,
      "metadata": {
        "id": "Kgo0ZIzNvfMK"
      },
      "outputs": [],
      "source": [
        "display(Image(filename='yolov5/runs/train/coronal/F1_curve.png'))"
      ]
    },
    {
      "cell_type": "markdown",
      "metadata": {
        "id": "C1Mp1SpLvRkg"
      },
      "source": [
        "### PR Curve"
      ]
    },
    {
      "cell_type": "code",
      "execution_count": null,
      "metadata": {
        "id": "1fjK6PxcviVd"
      },
      "outputs": [],
      "source": [
        "display(Image(filename='yolov5/runs/train/coronal/PR_curve.png'))"
      ]
    },
    {
      "cell_type": "markdown",
      "metadata": {
        "id": "ETbPokvuvWon"
      },
      "source": [
        "### Confusion Matrix"
      ]
    },
    {
      "cell_type": "code",
      "execution_count": null,
      "metadata": {
        "id": "2XntHhHivnOv"
      },
      "outputs": [],
      "source": [
        "display(Image(filename='yolov5/runs/train/coronal/confusion_matrix.png'))"
      ]
    },
    {
      "cell_type": "markdown",
      "metadata": {
        "id": "xH4XH_YnvZs-"
      },
      "source": [
        "### Results Summary"
      ]
    },
    {
      "cell_type": "code",
      "execution_count": null,
      "metadata": {
        "id": "mJOH8P2pvoOJ"
      },
      "outputs": [],
      "source": [
        "display(Image(filename='yolov5/runs/train/coronal/results.png'))"
      ]
    },
    {
      "cell_type": "markdown",
      "metadata": {
        "id": "9dVf8pfavzWA"
      },
      "source": [
        "## Sagittal Plane Model"
      ]
    },
    {
      "cell_type": "code",
      "execution_count": null,
      "metadata": {
        "id": "cGZFl9JODxwl"
      },
      "outputs": [],
      "source": [
        "# Training sagittal plane\n",
        "!python yolov5/train.py --img 480 --batch 80 --epochs 200 --data data/sagittal/sagittal.yaml --weights yolov5m.pt --device 0 --name sagittal --hyp ./data/augmentation.yaml\n",
        "\n",
        "# Copy the fine-tuned model inside the output folder\n",
        "shutil.copyfile('yolov5/runs/train/sagittal/weights/best.pt', f'{output_folder}/tumor_detector_sagittal.pt')"
      ]
    },
    {
      "cell_type": "markdown",
      "metadata": {
        "id": "-s8GM26rv98l"
      },
      "source": [
        "### F1 Curve"
      ]
    },
    {
      "cell_type": "code",
      "execution_count": null,
      "metadata": {
        "id": "q2uR6LmawH97"
      },
      "outputs": [],
      "source": [
        "display(Image(filename='yolov5/runs/train/sagittal/F1_curve.png'))"
      ]
    },
    {
      "cell_type": "markdown",
      "metadata": {
        "id": "MnYRtOObwAsc"
      },
      "source": [
        "### PR Curve"
      ]
    },
    {
      "cell_type": "code",
      "execution_count": null,
      "metadata": {
        "id": "OInSSNEYwLWO"
      },
      "outputs": [],
      "source": [
        "display(Image(filename='yolov5/runs/train/sagittal/PR_curve.png'))"
      ]
    },
    {
      "cell_type": "markdown",
      "metadata": {
        "id": "dRzVSPT6wCyD"
      },
      "source": [
        "### Confusion Matrix"
      ]
    },
    {
      "cell_type": "code",
      "execution_count": null,
      "metadata": {
        "id": "g2OjqSW9wJRB"
      },
      "outputs": [],
      "source": [
        "display(Image(filename='yolov5/runs/train/sagittal/confusion_matrix.png'))"
      ]
    },
    {
      "cell_type": "markdown",
      "metadata": {
        "id": "gq3hcpDfwFHB"
      },
      "source": [
        "### Results"
      ]
    },
    {
      "cell_type": "code",
      "execution_count": null,
      "metadata": {
        "id": "rbX6bCNWwOxV"
      },
      "outputs": [],
      "source": [
        "display(Image(filename='yolov5/runs/train/sagittal/results.png'))"
      ]
    },
    {
      "cell_type": "markdown",
      "metadata": {
        "id": "Gqh2WP3CwYUk"
      },
      "source": [
        "# Testing the models"
      ]
    },
    {
      "cell_type": "markdown",
      "metadata": {
        "id": "3NPC6UIn8odr"
      },
      "source": [
        "Let's test our models with never seen images during the training."
      ]
    },
    {
      "cell_type": "markdown",
      "metadata": {
        "id": "IHl8GabHwdEv"
      },
      "source": [
        "## Axial Model"
      ]
    },
    {
      "cell_type": "code",
      "execution_count": null,
      "metadata": {
        "id": "l_ciINWd81CO"
      },
      "outputs": [],
      "source": [
        "!python yolov5/detect.py --weights output_models/tumor_detector_axial.pt --img 640 --conf 0.4 --source https://prod-images-static.radiopaedia.org/images/5651/b510dc0d5cd3906018c4dd49b98643_gallery.jpeg --save-txt\n",
        "\n",
        "display(Image(filename='yolov5/runs/detect/exp/b510dc0d5cd3906018c4dd49b98643_gallery.jpeg'))"
      ]
    },
    {
      "cell_type": "markdown",
      "metadata": {
        "id": "MOuGku4AwjUo"
      },
      "source": [
        "## Coronal Model"
      ]
    },
    {
      "cell_type": "code",
      "execution_count": null,
      "metadata": {
        "id": "Dd01XZCF9QNt"
      },
      "outputs": [],
      "source": [
        "!python yolov5/detect.py --weights output_models/tumor_detector_coronal.pt --img 640 --conf 0.4 --source https://www.mriclinicalcasemap.philips.com/content/images/cases/case154/thumbs/14.jpg --save-txt\n",
        "\n",
        "display(Image(filename='yolov5/runs/detect/exp2/14.jpg'))"
      ]
    },
    {
      "cell_type": "markdown",
      "metadata": {
        "id": "KfTuxPQCwl_l"
      },
      "source": [
        "## Sagittal Model"
      ]
    },
    {
      "cell_type": "code",
      "execution_count": null,
      "metadata": {
        "id": "act671KB5n7v"
      },
      "outputs": [],
      "source": [
        "!python yolov5/detect.py --weights output_models/tumor_detector_sagittal.pt --img 640 --conf 0.4 --source https://prod-images-static.radiopaedia.org/images/4440984/10a4749375e20983b677e0502a9d7f_gallery.jpg --save-txt\n",
        "\n",
        "display(Image(filename='yolov5/runs/detect/exp3/10a4749375e20983b677e0502a9d7f_gallery.jpg'))"
      ]
    }
  ],
  "metadata": {
    "accelerator": "GPU",
    "colab": {
      "collapsed_sections": [],
      "name": "BrainTumorDetector.ipynb",
      "provenance": [],
      "include_colab_link": true
    },
    "gpuClass": "standard",
    "kernelspec": {
      "display_name": "Python 3.9.13 ('base')",
      "language": "python",
      "name": "python3"
    },
    "language_info": {
      "name": "python",
      "version": "3.9.13"
    },
    "vscode": {
      "interpreter": {
        "hash": "768c73540d99db1db2a462ca3fe2b48a6dc2c64878b10ee7379e2d2a9551ef5b"
      }
    }
  },
  "nbformat": 4,
  "nbformat_minor": 0
}